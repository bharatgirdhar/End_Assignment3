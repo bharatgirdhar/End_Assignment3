{
  "nbformat": 4,
  "nbformat_minor": 0,
  "metadata": {
    "colab": {
      "name": "Untitled6.ipynb",
      "provenance": [],
      "authorship_tag": "ABX9TyNNgPBmg63GbjikXW4FPxSF",
      "include_colab_link": true
    },
    "kernelspec": {
      "name": "python3",
      "display_name": "Python 3"
    }
  },
  "cells": [
    {
      "cell_type": "markdown",
      "metadata": {
        "id": "view-in-github",
        "colab_type": "text"
      },
      "source": [
        "<a href=\"https://colab.research.google.com/github/bharatgirdhar/End_Assignment3/blob/main/End_Assignment8.ipynb\" target=\"_parent\"><img src=\"https://colab.research.google.com/assets/colab-badge.svg\" alt=\"Open In Colab\"/></a>"
      ]
    },
    {
      "cell_type": "code",
      "metadata": {
        "id": "LnEQgulXOSSQ"
      },
      "source": [
        "#FUnction to calculate value of percentage of a Number\r\n",
        "def calculatePercentageValue(Percentage,Number):\r\n",
        "  return Number*Percentage/100\r\n",
        "\r\n",
        "\r\n"
      ],
      "execution_count": 1,
      "outputs": []
    },
    {
      "cell_type": "code",
      "metadata": {
        "id": "nnEfJ5YQPTWe"
      },
      "source": [
        "#Function to calculate Square value of a Number\r\n",
        "def SquareValue(Number):\r\n",
        "  return Number**2"
      ],
      "execution_count": 2,
      "outputs": []
    },
    {
      "cell_type": "code",
      "metadata": {
        "id": "QDhDMYpDPpGh"
      },
      "source": [
        "#Function to calculate Cube value of a Number\r\n",
        "def CubeValue(Number):\r\n",
        "  return Number**3"
      ],
      "execution_count": 3,
      "outputs": []
    },
    {
      "cell_type": "code",
      "metadata": {
        "id": "eJB-pjRAPzL1"
      },
      "source": [
        "#Function to calculate Area of a Square\r\n",
        "def SquareArea(Length):\r\n",
        "  return Length**2"
      ],
      "execution_count": 4,
      "outputs": []
    },
    {
      "cell_type": "code",
      "metadata": {
        "id": "ySNsXA6WP-Ns"
      },
      "source": [
        "#Function to calculate Area of a Rectangle\r\n",
        "def RectangleArea(Length,Width):\r\n",
        "  return Length*Width"
      ],
      "execution_count": 5,
      "outputs": []
    },
    {
      "cell_type": "code",
      "metadata": {
        "id": "KYrWRWFoQEwW"
      },
      "source": [
        "#Function to calculate Area of a Triangle\r\n",
        "def TriangleArea(Height, Base):\r\n",
        "  return Height*Base/2"
      ],
      "execution_count": 6,
      "outputs": []
    },
    {
      "cell_type": "code",
      "metadata": {
        "id": "TuGf9LiYQePd"
      },
      "source": [
        "#Function to calculate Length of List\r\n",
        "def ListLength(vlist):\r\n",
        "  return len(vlist)"
      ],
      "execution_count": 7,
      "outputs": []
    },
    {
      "cell_type": "code",
      "metadata": {
        "id": "TdyPGfmfQxGR"
      },
      "source": [
        "#Function to Fect Nth elemnt in the List\r\n",
        "def ListPositionValue(list,position):\r\n",
        "  return list[position-1]"
      ],
      "execution_count": 9,
      "outputs": []
    },
    {
      "cell_type": "code",
      "metadata": {
        "id": "jPQpYDAVRECn"
      },
      "source": [
        "#Function to Add numbers in the list\r\n",
        "def ListTotal(vlist):\r\n",
        "  return sum(vlist)"
      ],
      "execution_count": null,
      "outputs": []
    },
    {
      "cell_type": "code",
      "metadata": {
        "id": "ZJj3xwZrTB8H"
      },
      "source": [
        "#Function to calculate Length of dictionary\r\n",
        "def ListLength(vdict):\r\n",
        "  return len(vdict)"
      ],
      "execution_count": 20,
      "outputs": []
    },
    {
      "cell_type": "code",
      "metadata": {
        "id": "A2uMfJK-TIHS"
      },
      "source": [
        "#Function to sort a list\r\n",
        "def sortlist(vlist):\r\n",
        "  for j in range(len(vlist)-1):\r\n",
        "    for i in range(len(vlist)-1):\r\n",
        "      if vlist[i] > vlist[i+1]:\r\n",
        "        a=vlist[i]\r\n",
        "        vlist[i]=vlist[i+1]\r\n",
        "        vlist[i+1]=a\r\n",
        "\r\n",
        "  return vlist\r\n"
      ],
      "execution_count": 24,
      "outputs": []
    },
    {
      "cell_type": "code",
      "metadata": {
        "id": "iPW1vsFrf7wz"
      },
      "source": [
        "#Function to remove stopwords\r\n",
        "def removestopwords(vsentence=\"\"):\r\n",
        "  import nltk\r\n",
        "  from nltk.corpus import stopwords\r\n",
        "  nltk.download('stopwords')\r\n",
        "  stopwords = stopwords.words(\"english\")\r\n",
        "  from nltk import word_tokenize\r\n",
        "  tokenized_words=word_tokenize(vsentence)\r\n",
        "  vwithout_stopwords=[]\r\n",
        "  for w in tokenized_words:\r\n",
        "      if w not in stopwords:\r\n",
        "          vwithout_stopwords.append(w)\r\n",
        "  return vwithout_stopwords\r\n",
        "\r\n"
      ],
      "execution_count": 65,
      "outputs": []
    },
    {
      "cell_type": "code",
      "metadata": {
        "id": "-mIRYX1LQWqA"
      },
      "source": [
        "#Function to tell whether given word is a stop word or NOT\r\n",
        "def isstopword(vstr):\r\n",
        "  import nltk\r\n",
        "  from nltk.corpus import stopwords\r\n",
        "  nltk.download('stopwords')\r\n",
        "  stopwords = stopwords.words(\"english\")\r\n",
        "  if vstr in stopwords:\r\n",
        "    return \"Y\"\r\n",
        "  return \"N\""
      ],
      "execution_count": 147,
      "outputs": []
    },
    {
      "cell_type": "code",
      "metadata": {
        "id": "hH8G5ZQZmfcl"
      },
      "source": [
        "#Function for list containing first n numbers in fibonacci series\r\n",
        "\r\n",
        "def fibonaciseries(n=0):\r\n",
        "  a=0\r\n",
        "  b=1\r\n",
        "  fibonacilist=[]\r\n",
        "  if n == 0:\r\n",
        "    return fibonacilist\r\n",
        "  else:\r\n",
        "    if n==1:\r\n",
        "      fibonacilist.append(a)\r\n",
        "    else:\r\n",
        "      fibonacilist=[0,1]\r\n",
        "      for i in range(n-2):\r\n",
        "        b=a+b\r\n",
        "        a=b-a\r\n",
        "        fibonacilist.append(b)\r\n",
        "\r\n",
        "  return fibonacilist\r\n",
        "\r\n"
      ],
      "execution_count": 63,
      "outputs": []
    },
    {
      "cell_type": "code",
      "metadata": {
        "id": "UFWm7W_Av-Oe"
      },
      "source": [
        "#Function for matrix multiplication\r\n",
        "def matmul(vlist1,vlist2):\r\n",
        "  #len(vlist1),len(vlist2),len(vlist2[0])\r\n",
        "  finallist=[]\r\n",
        "  if len(vlist1[0]) == len(vlist2):\r\n",
        "    \r\n",
        "\r\n",
        "    for i in range(len(vlist1)):      \r\n",
        "      result=[]\r\n",
        "      for j in range(len(vlist2[0])):\r\n",
        "        vtotal=0\r\n",
        "        for k in range(len(vlist2)):\r\n",
        "          x= vlist1[i][k]*vlist2[k][j]\r\n",
        "          vtotal += x\r\n",
        "        result.append(vtotal)\r\n",
        "      finallist.append(result)\r\n",
        "\r\n",
        "  return finallist\r\n",
        "\r\n"
      ],
      "execution_count": 87,
      "outputs": []
    },
    {
      "cell_type": "code",
      "metadata": {
        "id": "Nex71x-nC21z"
      },
      "source": [
        "#function for string cconcatenation\r\n",
        "def strcat(str1,str2):\r\n",
        "  vstr= str1 + \" \" + str2\r\n",
        "  return vstr "
      ],
      "execution_count": 94,
      "outputs": []
    },
    {
      "cell_type": "code",
      "metadata": {
        "id": "3ayPhhc2Dw65"
      },
      "source": [
        "#Function for rounding the decimalplaces\r\n",
        "def roundoff(vfloat):\r\n",
        "  vdecimal = vfloat - int(vfloat)\r\n",
        "  if vdecimal*2 >= 1:\r\n",
        "    vfloat=int(vfloat) + 1\r\n",
        "  else:\r\n",
        "    vfloat = int(vfloat)\r\n",
        "  return vfloat"
      ],
      "execution_count": 100,
      "outputs": []
    },
    {
      "cell_type": "code",
      "metadata": {
        "id": "6bDzfK21FOTQ"
      },
      "source": [
        "#Function to tell whether number is prime or not\r\n",
        "def IsPrime(vint):\r\n",
        "  if vint==1 or vint==0:\r\n",
        "    return \"N\"\r\n",
        "\r\n",
        "  if vint in (2,3,5,7):\r\n",
        "    return \"Y\"\r\n",
        "  \r\n",
        "  if vint % 2 ==0 or vint % 3 ==0 or vint % 5 ==0 or vint % 7 ==0:\r\n",
        "    return \"N\"\r\n",
        "  return \"Y\"\r\n"
      ],
      "execution_count": 121,
      "outputs": []
    },
    {
      "cell_type": "code",
      "metadata": {
        "id": "f3160E8uHuKA"
      },
      "source": [
        "#Function to generate N(<100) prime numbers\r\n",
        "def genprime(n):\r\n",
        "  if n>= 100:\r\n",
        "    return \"please provide n<100\"\r\n",
        "  \r\n",
        "  vlist=[2,3,5,7]\r\n",
        "  if n<=4:\r\n",
        "    vlist=vlist[:n]\r\n",
        "  k=10\r\n",
        "  if n>4:\r\n",
        "    while len(vlist)<n:\r\n",
        "      k=k+1\r\n",
        "      if not (k % 2 ==0 or k % 3 ==0 or k % 5 ==0 or k % 7 ==0):\r\n",
        "        vlist.append(k)\r\n",
        "  return vlist \r\n",
        "      "
      ],
      "execution_count": 128,
      "outputs": []
    },
    {
      "cell_type": "code",
      "metadata": {
        "id": "2oL_9WlSMmwi"
      },
      "source": [
        "#Function to tell whether number is part of Fibonacci series\r\n",
        "def ispartoffibonacci(n):\r\n",
        "  vresult=\"N\"\r\n",
        "  a=0\r\n",
        "  b=1\r\n",
        "  if n in (0,1):\r\n",
        "    vresult=\"Y\"   \r\n",
        "   \r\n",
        "  while b<=n:\r\n",
        "    b=a+b\r\n",
        "    a=b-a\r\n",
        "  if n in (a,b):\r\n",
        "    vresult= \"Y\"\r\n",
        "\r\n",
        "  return vresult  "
      ],
      "execution_count": 138,
      "outputs": []
    },
    {
      "cell_type": "code",
      "metadata": {
        "colab": {
          "base_uri": "https://localhost:8080/",
          "height": 69
        },
        "id": "wK8GAik7DlcD",
        "outputId": "4a70ef7f-349d-471c-c483-ac68acd365e6"
      },
      "source": [
        "s=isstopword(\"hello\")\r\n",
        "#s=ispartoffibonacci(7)\r\n",
        "#s=genprime(6)\r\n",
        "#s=IsPrime(29)\r\n",
        "#s=roundoff(3.0)\r\n",
        "#s=strcat(\"Bharat\",\"Girdhar\")\r\n",
        "s"
      ],
      "execution_count": 149,
      "outputs": [
        {
          "output_type": "stream",
          "text": [
            "[nltk_data] Downloading package stopwords to /root/nltk_data...\n",
            "[nltk_data]   Package stopwords is already up-to-date!\n"
          ],
          "name": "stdout"
        },
        {
          "output_type": "execute_result",
          "data": {
            "application/vnd.google.colaboratory.intrinsic+json": {
              "type": "string"
            },
            "text/plain": [
              "'N'"
            ]
          },
          "metadata": {
            "tags": []
          },
          "execution_count": 149
        }
      ]
    },
    {
      "cell_type": "code",
      "metadata": {
        "colab": {
          "base_uri": "https://localhost:8080/"
        },
        "id": "dTp8ibXstvAa",
        "outputId": "e81bb244-99fb-4274-d4c6-f79c5b5b98df"
      },
      "source": [
        "vlist1=[[1,2,3],[2,3,3]]\r\n",
        "vlist2=[[1,1,1],[2,2,2],[3,3,3]]\r\n",
        "\r\n",
        "vlist=matmul(vlist1,vlist2)\r\n",
        "vlist"
      ],
      "execution_count": 88,
      "outputs": [
        {
          "output_type": "execute_result",
          "data": {
            "text/plain": [
              "[[14, 14, 14], [17, 17, 17]]"
            ]
          },
          "metadata": {
            "tags": []
          },
          "execution_count": 88
        }
      ]
    },
    {
      "cell_type": "code",
      "metadata": {
        "colab": {
          "base_uri": "https://localhost:8080/",
          "height": 69
        },
        "id": "MchrFHZHh4Y0",
        "outputId": "8802b074-4c1f-4c4d-d741-9512ffa98a6e"
      },
      "source": [
        "#nltk.download('punkt')\r\n",
        "vlist = removestopwords()\r\n",
        "sentence=\"\"\r\n",
        "for i in range(len(vlist)):\r\n",
        "  sentence += vlist[i] + \" \"\r\n",
        "\r\n",
        "sentence"
      ],
      "execution_count": 67,
      "outputs": [
        {
          "output_type": "stream",
          "text": [
            "[nltk_data] Downloading package stopwords to /root/nltk_data...\n",
            "[nltk_data]   Package stopwords is already up-to-date!\n"
          ],
          "name": "stdout"
        },
        {
          "output_type": "execute_result",
          "data": {
            "application/vnd.google.colaboratory.intrinsic+json": {
              "type": "string"
            },
            "text/plain": [
              "''"
            ]
          },
          "metadata": {
            "tags": []
          },
          "execution_count": 67
        }
      ]
    },
    {
      "cell_type": "code",
      "metadata": {
        "colab": {
          "base_uri": "https://localhost:8080/"
        },
        "id": "IbajneT5ZQkY",
        "outputId": "af58c4a0-5001-413b-9830-f9a23ab2647c"
      },
      "source": [
        "import nltk\r\n",
        "from nltk.corpus import stopwords\r\n",
        "nltk.download('stopwords')\r\n",
        "stopwords = stopwords.words(\"english\")\r\n",
        "stopwords"
      ],
      "execution_count": 35,
      "outputs": [
        {
          "output_type": "stream",
          "text": [
            "[nltk_data] Downloading package stopwords to /root/nltk_data...\n",
            "[nltk_data]   Package stopwords is already up-to-date!\n"
          ],
          "name": "stdout"
        },
        {
          "output_type": "execute_result",
          "data": {
            "text/plain": [
              "['i',\n",
              " 'me',\n",
              " 'my',\n",
              " 'myself',\n",
              " 'we',\n",
              " 'our',\n",
              " 'ours',\n",
              " 'ourselves',\n",
              " 'you',\n",
              " \"you're\",\n",
              " \"you've\",\n",
              " \"you'll\",\n",
              " \"you'd\",\n",
              " 'your',\n",
              " 'yours',\n",
              " 'yourself',\n",
              " 'yourselves',\n",
              " 'he',\n",
              " 'him',\n",
              " 'his',\n",
              " 'himself',\n",
              " 'she',\n",
              " \"she's\",\n",
              " 'her',\n",
              " 'hers',\n",
              " 'herself',\n",
              " 'it',\n",
              " \"it's\",\n",
              " 'its',\n",
              " 'itself',\n",
              " 'they',\n",
              " 'them',\n",
              " 'their',\n",
              " 'theirs',\n",
              " 'themselves',\n",
              " 'what',\n",
              " 'which',\n",
              " 'who',\n",
              " 'whom',\n",
              " 'this',\n",
              " 'that',\n",
              " \"that'll\",\n",
              " 'these',\n",
              " 'those',\n",
              " 'am',\n",
              " 'is',\n",
              " 'are',\n",
              " 'was',\n",
              " 'were',\n",
              " 'be',\n",
              " 'been',\n",
              " 'being',\n",
              " 'have',\n",
              " 'has',\n",
              " 'had',\n",
              " 'having',\n",
              " 'do',\n",
              " 'does',\n",
              " 'did',\n",
              " 'doing',\n",
              " 'a',\n",
              " 'an',\n",
              " 'the',\n",
              " 'and',\n",
              " 'but',\n",
              " 'if',\n",
              " 'or',\n",
              " 'because',\n",
              " 'as',\n",
              " 'until',\n",
              " 'while',\n",
              " 'of',\n",
              " 'at',\n",
              " 'by',\n",
              " 'for',\n",
              " 'with',\n",
              " 'about',\n",
              " 'against',\n",
              " 'between',\n",
              " 'into',\n",
              " 'through',\n",
              " 'during',\n",
              " 'before',\n",
              " 'after',\n",
              " 'above',\n",
              " 'below',\n",
              " 'to',\n",
              " 'from',\n",
              " 'up',\n",
              " 'down',\n",
              " 'in',\n",
              " 'out',\n",
              " 'on',\n",
              " 'off',\n",
              " 'over',\n",
              " 'under',\n",
              " 'again',\n",
              " 'further',\n",
              " 'then',\n",
              " 'once',\n",
              " 'here',\n",
              " 'there',\n",
              " 'when',\n",
              " 'where',\n",
              " 'why',\n",
              " 'how',\n",
              " 'all',\n",
              " 'any',\n",
              " 'both',\n",
              " 'each',\n",
              " 'few',\n",
              " 'more',\n",
              " 'most',\n",
              " 'other',\n",
              " 'some',\n",
              " 'such',\n",
              " 'no',\n",
              " 'nor',\n",
              " 'not',\n",
              " 'only',\n",
              " 'own',\n",
              " 'same',\n",
              " 'so',\n",
              " 'than',\n",
              " 'too',\n",
              " 'very',\n",
              " 's',\n",
              " 't',\n",
              " 'can',\n",
              " 'will',\n",
              " 'just',\n",
              " 'don',\n",
              " \"don't\",\n",
              " 'should',\n",
              " \"should've\",\n",
              " 'now',\n",
              " 'd',\n",
              " 'll',\n",
              " 'm',\n",
              " 'o',\n",
              " 're',\n",
              " 've',\n",
              " 'y',\n",
              " 'ain',\n",
              " 'aren',\n",
              " \"aren't\",\n",
              " 'couldn',\n",
              " \"couldn't\",\n",
              " 'didn',\n",
              " \"didn't\",\n",
              " 'doesn',\n",
              " \"doesn't\",\n",
              " 'hadn',\n",
              " \"hadn't\",\n",
              " 'hasn',\n",
              " \"hasn't\",\n",
              " 'haven',\n",
              " \"haven't\",\n",
              " 'isn',\n",
              " \"isn't\",\n",
              " 'ma',\n",
              " 'mightn',\n",
              " \"mightn't\",\n",
              " 'mustn',\n",
              " \"mustn't\",\n",
              " 'needn',\n",
              " \"needn't\",\n",
              " 'shan',\n",
              " \"shan't\",\n",
              " 'shouldn',\n",
              " \"shouldn't\",\n",
              " 'wasn',\n",
              " \"wasn't\",\n",
              " 'weren',\n",
              " \"weren't\",\n",
              " 'won',\n",
              " \"won't\",\n",
              " 'wouldn',\n",
              " \"wouldn't\"]"
            ]
          },
          "metadata": {
            "tags": []
          },
          "execution_count": 35
        }
      ]
    },
    {
      "cell_type": "code",
      "metadata": {
        "colab": {
          "base_uri": "https://localhost:8080/",
          "height": 35
        },
        "id": "kdx7Df1if2Ms",
        "outputId": "ec879ed5-b8f4-40be-cf1b-254101d55564"
      },
      "source": [
        "stopwords[0]"
      ],
      "execution_count": 29,
      "outputs": [
        {
          "output_type": "execute_result",
          "data": {
            "application/vnd.google.colaboratory.intrinsic+json": {
              "type": "string"
            },
            "text/plain": [
              "'i'"
            ]
          },
          "metadata": {
            "tags": []
          },
          "execution_count": 29
        }
      ]
    },
    {
      "cell_type": "code",
      "metadata": {
        "colab": {
          "base_uri": "https://localhost:8080/"
        },
        "id": "xXgpl6DxSGAK",
        "outputId": "a7772b63-d8e4-4354-a212-a1e99c822ed9"
      },
      "source": [
        "vlist=[1,7,3,8,49,22,1]\r\n",
        "\r\n",
        "sortlist(vlist)\r\n",
        "#len({\"a\":\"hemant\",\"b\":\"bharat\",\"c\":\"Ramesh\"})"
      ],
      "execution_count": 26,
      "outputs": [
        {
          "output_type": "execute_result",
          "data": {
            "text/plain": [
              "[1, 1, 3, 7, 8, 22, 49]"
            ]
          },
          "metadata": {
            "tags": []
          },
          "execution_count": 26
        }
      ]
    }
  ]
}